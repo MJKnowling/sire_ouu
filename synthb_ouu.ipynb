{
 "cells": [
  {
   "cell_type": "code",
   "execution_count": null,
   "metadata": {},
   "outputs": [],
   "source": [
    "from __future__ import print_function\n",
    "import os\n",
    "import ipywidgets as ipyw\n",
    "import matplotlib as mpl\n",
    "import matplotlib.pyplot as plt\n",
    "import IPython\n",
    "import warnings\n",
    "warnings.filterwarnings(\"ignore\")\n",
    "import ouu_synthb\n"
   ]
  },
  {
   "cell_type": "code",
   "execution_count": null,
   "metadata": {},
   "outputs": [],
   "source": [
    "# risk-neutral soln (no chance constraints)\n",
    "#fig,ax = ouu_synthb.run_scenario()"
   ]
  },
  {
   "cell_type": "code",
   "execution_count": null,
   "metadata": {},
   "outputs": [],
   "source": [
    "# widget hackery\n",
    "delta_mn,delta_mx = 50.0,150.0\n",
    "risk_str = ipyw.Text(\"0.5\")\n",
    "sw_str = ipyw.Text()\n",
    "#gw_str = ipyw.Text()\n",
    "str_dict = {\"surfacewater\":sw_str,}\n",
    "           #\"groundwater\":gw_str}\n",
    "def set_values(**kwargs):\n",
    "    for k,v in kwargs.items():\n",
    "        str_dict[k].value = str(v)\n",
    "def set_risk(risk):\n",
    "    risk_str.value = str(risk)\n",
    "    \n",
    "w = ipyw.interactive(set_values,surfacewater=(delta_mn,delta_mx,5.0),)\n",
    "                     #groundwater=(delta_mn,delta_mx,5.0))\n",
    "\n",
    "def on_button_clicked(b):  \n",
    "    risk = float(risk_str.value)\n",
    "    const_dict = {k:float(v.value) for k,v in str_dict.items()}\n",
    "    all_const_dict = ouu_synthb.get_const_dict()\n",
    "    scen_dict = {}\n",
    "    for cn in all_const_dict.keys():\n",
    "        if cn.startswith(\"ucn\"):\n",
    "            scen_dict[cn] = const_dict[\"groundwater\"] / 100.0\n",
    "        else:\n",
    "            scen_dict[cn] = const_dict[\"surfacewater\"] / 100.0\n",
    "    fig,ax = ouu_synthb.run_scenario(scen_dict,risk=risk)\n",
    "    #fig.savefig(\"optimal_nconc_r{:02d}.pdf\".format(int(risk*100)))\n",
    "\n",
    "button = ipyw.Button(description=\"Get Some Science\")\n",
    "button.on_click(on_button_clicked)"
   ]
  },
  {
   "cell_type": "markdown",
   "metadata": {},
   "source": [
    "## SIRE-OUU decision-support tool demonstration \n",
    "\n",
    "### Here we show the ability of SIRE (the Stochastic Impulse-Response Emulator) to faciliate rapid (~15 s) nitrate-loading OUU (optimization under uncertainty) for a synthetic model. "
   ]
  },
  {
   "cell_type": "markdown",
   "metadata": {},
   "source": [
    "### Below the user can specify desired levels of:\n",
    "###  - `risk` -- the probability that surface-water nitrate-concentration constraint values are truly satisfied (e.g., values >0.5 represent a ''risk averse'' stance); and \n",
    "###  - `surfacewater` nitrate-concentration constraint percent factor (i.e., values >100 suggest that higher surface-water concentrations are acceptable)."
   ]
  },
  {
   "cell_type": "markdown",
   "metadata": {},
   "source": [
    "### Instructions:  Simply drag the sliderbar (or click on the value) to modify these quantities.  Then click `Get Some Science`!  "
   ]
  },
  {
   "cell_type": "markdown",
   "metadata": {},
   "source": [
    "### Each execution will produce a map of optimal nitrate-input concentrations for a given risk and concentration-constraint factor.  (This is providing a solution is feasible under the desired condition; solution infeasibility, whoch occurs at higher risk values, is indicated by an appropriate message.)"
   ]
  },
  {
   "cell_type": "code",
   "execution_count": null,
   "metadata": {
    "scrolled": false
   },
   "outputs": [],
   "source": [
    "r = ipyw.interact(set_risk,risk=(0.01,0.99,0.01))\n",
    "display(w)\n",
    "display(button)"
   ]
  },
  {
   "cell_type": "code",
   "execution_count": null,
   "metadata": {},
   "outputs": [],
   "source": []
  }
 ],
 "metadata": {
  "kernelspec": {
   "display_name": "Python 3",
   "language": "python",
   "name": "python3"
  },
  "language_info": {
   "codemirror_mode": {
    "name": "ipython",
    "version": 3
   },
   "file_extension": ".py",
   "mimetype": "text/x-python",
   "name": "python",
   "nbconvert_exporter": "python",
   "pygments_lexer": "ipython3",
   "version": "3.6.4"
  }
 },
 "nbformat": 4,
 "nbformat_minor": 2
}
